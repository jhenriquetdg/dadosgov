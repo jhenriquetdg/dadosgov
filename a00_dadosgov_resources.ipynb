{
 "cells": [
  {
   "cell_type": "markdown",
   "metadata": {},
   "source": [
    "#### Useful links\n",
    "\n",
    "[Government portal](https://dados.gov.br/)\n",
    "\n",
    "[How-to get an API key](https://dados.gov.br/dados/conteudo/como-acessar-a-api-do-portal-de-dados-abertos-com-o-perfil-de-consumidor)\n",
    "\n",
    "[API documentation](https://dados.gov.br/swagger-ui/index.html#/)"
   ]
  },
  {
   "cell_type": "markdown",
   "metadata": {
    "tags": [
     "parameters"
    ]
   },
   "source": [
    "### Common requirements"
   ]
  },
  {
   "cell_type": "markdown",
   "metadata": {},
   "source": [
    "#### Imports"
   ]
  },
  {
   "cell_type": "code",
   "execution_count": 3,
   "metadata": {},
   "outputs": [],
   "source": [
    "import os\n",
    "import json\n",
    "import requests\n",
    "\n",
    "from dotenv import load_dotenv\n",
    "from urllib.parse import urljoin\n",
    "from urllib.parse import urlparse\n",
    "from urllib.request import urlretrieve"
   ]
  },
  {
   "cell_type": "markdown",
   "metadata": {},
   "source": [
    "If you need debugging\n",
    "\n",
    "```python\n",
    "import logging\n",
    "import http.client\n",
    "\n",
    "http.client.HTTPConnection.debuglevel = 10\n",
    "\n",
    "# You must initialize logging, otherwise you'll not see debug output.\n",
    "logging.basicConfig()\n",
    "logging.getLogger().setLevel(logging.DEBUG)\n",
    "requests_log = logging.getLogger(\"requests.packages.urllib3\")\n",
    "requests_log.setLevel(logging.DEBUG)\n",
    "requests_log.propagate = True\n",
    "```"
   ]
  },
  {
   "cell_type": "markdown",
   "metadata": {},
   "source": [
    "#### Data directory"
   ]
  },
  {
   "cell_type": "code",
   "execution_count": 4,
   "metadata": {},
   "outputs": [],
   "source": [
    "data_directory_path = \"./data\""
   ]
  },
  {
   "cell_type": "markdown",
   "metadata": {},
   "source": [
    "#### Environmental variables loading"
   ]
  },
  {
   "cell_type": "code",
   "execution_count": 5,
   "metadata": {},
   "outputs": [],
   "source": [
    "env_filepath = \".env\""
   ]
  },
  {
   "cell_type": "code",
   "execution_count": 6,
   "metadata": {},
   "outputs": [
    {
     "data": {
      "text/plain": [
       "True"
      ]
     },
     "execution_count": 6,
     "metadata": {},
     "output_type": "execute_result"
    }
   ],
   "source": [
    "load_dotenv(env_filepath)"
   ]
  },
  {
   "cell_type": "markdown",
   "metadata": {},
   "source": [
    "#### Request headers and base URL"
   ]
  },
  {
   "cell_type": "code",
   "execution_count": 7,
   "metadata": {},
   "outputs": [],
   "source": [
    "request_headers = {\n",
    "    'accept': 'application/json',\n",
    "    'chave-api-dados-abertos': os.environ[\"CHAVE_API_DADOS_GOV_BR\"],\n",
    "}\n",
    "\n",
    "request_base_url = urlparse('https://dados.gov.br/dados/api/publico/')"
   ]
  },
  {
   "cell_type": "markdown",
   "metadata": {},
   "source": [
    "### Geting organizational data"
   ]
  },
  {
   "cell_type": "markdown",
   "metadata": {},
   "source": [
    "#### Requesting the list of organizations"
   ]
  },
  {
   "cell_type": "code",
   "execution_count": 7,
   "metadata": {},
   "outputs": [
    {
     "name": "stdout",
     "output_type": "stream",
     "text": [
      "1, 2, 3, 4, 5, 6, 7, 8, 9, 10, 11, 12, 13, 14, 15, 16, 17, 18, "
     ]
    }
   ],
   "source": [
    "organizations = []\n",
    "pagina = 0\n",
    "while True:\n",
    "    pagina += 1\n",
    "    print(pagina, end=', ')\n",
    "    \n",
    "    request_params = {\n",
    "        'pagina' : pagina,\n",
    "    }\n",
    "    \n",
    "    requested = requests.get(\n",
    "        urljoin(request_base_url.geturl(),'organizacao'), \n",
    "        headers=request_headers, \n",
    "        params=request_params\n",
    "    )\n",
    "    \n",
    "    if requested.json():\n",
    "        organizations.extend(requested.json())\n",
    "    else:\n",
    "        break\n"
   ]
  },
  {
   "cell_type": "markdown",
   "metadata": {},
   "source": [
    "#### Requesting details of organizations"
   ]
  },
  {
   "cell_type": "code",
   "execution_count": 6,
   "metadata": {
    "collapsed": true,
    "jupyter": {
     "outputs_hidden": true
    },
    "scrolled": true
   },
   "outputs": [
    {
     "name": "stdout",
     "output_type": "stream",
     "text": [
      "1, 2, 3, 4, 5, 6, 7, 8, 9, 10, 11, 12, 13, 14, 15, 16, 17, 18, 19, 20\n",
      "21, 22, 23, 24, 25, 26, 27, 28, 29, 30, 31, 32, 33, 34, 35, 36, 37, 38, 39, 40\n",
      "41, 42, 43, 44, 45, "
     ]
    }
   ],
   "source": [
    "o = 0\n",
    "for org in organizations:    \n",
    "    o += 1\n",
    "    if 'ativo' in org: continue\n",
    "    requested = requests.get(\n",
    "        urljoin(request_base_url.geturl(),'/'.join(['organizacao',org['id']])), \n",
    "        headers=request_headers, \n",
    "        params=request_params\n",
    "    )\n",
    "    org.update(requested.json())\n",
    "    print(o, end=', ' if o % 20 else '\\n')"
   ]
  },
  {
   "cell_type": "markdown",
   "metadata": {},
   "source": [
    "#### Dumping organizations data to a json file"
   ]
  },
  {
   "cell_type": "code",
   "execution_count": 48,
   "metadata": {},
   "outputs": [],
   "source": [
    "import time"
   ]
  },
  {
   "cell_type": "code",
   "execution_count": 87,
   "metadata": {},
   "outputs": [],
   "source": [
    "json_filename = time.strftime(\"organizations_%Y%m%d.json\", time.localtime())\n",
    "json_filepath = os.path.join(data_directory_path,json_filename)\n",
    "\n",
    "if not os.path.exists(json_filepath):\n",
    "    with open(json_filepath,'w+') as f:\n",
    "        json.dump(organizations,f,indent=4)"
   ]
  },
  {
   "cell_type": "markdown",
   "metadata": {},
   "source": [
    "### Loading from disk"
   ]
  },
  {
   "cell_type": "markdown",
   "metadata": {},
   "source": [
    "#### Loading organizations from json file"
   ]
  },
  {
   "cell_type": "code",
   "execution_count": 41,
   "metadata": {},
   "outputs": [],
   "source": [
    "json_filename = sorted([f for f in os.listdir(data_directory_path) if f.startswith('organizations_')])[0]\n",
    "json_filepath = os.path.join(data_directory_path,json_filename)\n",
    "\n",
    "with open(json_filepath,'r') as f:\n",
    "    organizations = json.load(f)"
   ]
  },
  {
   "cell_type": "markdown",
   "metadata": {},
   "source": [
    "#### Filtering the organizations to our needs"
   ]
  },
  {
   "cell_type": "code",
   "execution_count": 42,
   "metadata": {},
   "outputs": [],
   "source": [
    "organizations = [o for o in organizations if 'universidade' in o['nome'].lower()]\n"
   ]
  },
  {
   "cell_type": "code",
   "execution_count": 44,
   "metadata": {},
   "outputs": [],
   "source": [
    "for o, org in enumerate(organizations):\n",
    "    org_directory_name = org['nome'].replace(' ','_').lower().replace('/','_').replace('\\\\','_').strip()\n",
    "    org_directory_path = os.path.join(data_directory_path,org_directory_name)\n",
    "    org_json_filepath = os.path.join(data_directory_path,org_directory_name+'.json')\n",
    "\n",
    "    if os.path.exists(org_json_filepath): \n",
    "        with open(org_json_filepath,'r') as f:\n",
    "            organizations[o] = json.load(f)"
   ]
  },
  {
   "cell_type": "markdown",
   "metadata": {},
   "source": [
    "#### Requesting the list of datasets from each organization"
   ]
  },
  {
   "cell_type": "code",
   "execution_count": 35,
   "metadata": {
    "collapsed": true,
    "jupyter": {
     "outputs_hidden": true
    }
   },
   "outputs": [],
   "source": [
    "o = 0 \n",
    "for org in organizations:\n",
    "    o += 1\n",
    "    if org.get('conjuntoDados'): continue\n",
    "    if not int(org['qtdConjuntoDeDados']): continue\n",
    "    print(o,org['titulo'], end=': ')\n",
    "\n",
    "    conjunto_dados = []\n",
    "    pagina = 0\n",
    "    while True:\n",
    "        pagina += 1\n",
    "        print(pagina, end=', ')\n",
    "        request_params = {\n",
    "            'idOrganizacao' : org['id'],\n",
    "            'pagina' : pagina,\n",
    "        }\n",
    "        \n",
    "        request_url = \"https://dados.gov.br/dados/api/publico/conjuntos-dados\"\n",
    "        requested = requests.get(request_url, headers=request_headers, params=request_params)\n",
    "    \n",
    "        if requested.json():\n",
    "            conjunto_dados.extend(requested.json())\n",
    "        else:\n",
    "            break\n",
    "    org['conjuntoDados'] = conjunto_dados\n",
    "    print('!')"
   ]
  },
  {
   "cell_type": "markdown",
   "metadata": {},
   "source": [
    "#### Requesting dataset details"
   ]
  },
  {
   "cell_type": "code",
   "execution_count": 36,
   "metadata": {},
   "outputs": [],
   "source": [
    "for o, org in enumerate(organizations):\n",
    "    org_directory_name = org['nome'].replace(' ','_').lower().replace('/','_').replace('\\\\','_').strip()\n",
    "    org_directory_path = os.path.join(data_directory_path,org_directory_name)\n",
    "    org_json_filepath = os.path.join(data_directory_path,org_directory_name+'.json')\n",
    "\n",
    "    if os.path.exists(org_json_filepath): continue\n",
    "    if not int(org['qtdConjuntoDeDados']): continue\n",
    "\n",
    "    print(o, org['titulo'], end=':\\n')\n",
    "    request_params = {\n",
    "        \n",
    "    }\n",
    "    for d, dado in enumerate(org['conjuntoDados']):\n",
    "        print('\\t'+str(d), end=' (')\n",
    "        request_url = \"https://dados.gov.br/dados/api/publico/conjuntos-dados/\" + dado['id']\n",
    "        response = requests.get(request_url, headers=request_headers, params=request_params)\n",
    "        response_json = response.json()\n",
    "        if response_json:\n",
    "            print(dado['title'], end=')\\n')\n",
    "            dado.update(response_json)        \n",
    "    \n",
    "    \n",
    "    with open(org_json_filepath,'w+') as f:\n",
    "        json.dump(org,f,indent=4)"
   ]
  },
  {
   "cell_type": "markdown",
   "metadata": {},
   "source": [
    "#### Retrieving dataset resource"
   ]
  },
  {
   "cell_type": "code",
   "execution_count": 37,
   "metadata": {},
   "outputs": [],
   "source": [
    "organizations_jsons = [f for f in os.listdir(data_directory_path) if f.endswith('.json') and not f.startswith('organizations')]"
   ]
  },
  {
   "cell_type": "code",
   "execution_count": 38,
   "metadata": {},
   "outputs": [
    {
     "data": {
      "text/plain": [
       "[88]"
      ]
     },
     "execution_count": 38,
     "metadata": {},
     "output_type": "execute_result"
    }
   ],
   "source": [
    "[len(o['conjuntoDados']) for o in organizations if o.get('conjuntoDados')]"
   ]
  },
  {
   "cell_type": "code",
   "execution_count": 39,
   "metadata": {},
   "outputs": [
    {
     "data": {
      "text/plain": [
       "['universidade_federal_do_rio_grande_do_norte_-_ufrn.json']"
      ]
     },
     "execution_count": 39,
     "metadata": {},
     "output_type": "execute_result"
    }
   ],
   "source": [
    "organizations_jsons = [json for json in organizations_jsons if 'ufrn' in json]\n",
    "organizations_jsons"
   ]
  },
  {
   "cell_type": "code",
   "execution_count": 40,
   "metadata": {},
   "outputs": [
    {
     "name": "stdout",
     "output_type": "stream",
     "text": [
      "universidade_federal_do_rio_grande_do_norte_-_ufrn\n",
      "\t I Hackathon UFRN\n",
      "\t Relação Empenhos COVID inscritos em RPNP\n",
      "\t Acervo aquisição\n",
      "\t Servidores Aposentados\n",
      "\t Trabalhos de Conclusão de Curso\n",
      "\t Requisição de Serviço para Licitação\n",
      "\t Cursos de Graduação\n",
      "\t Requisição de Parecer Técnico/Avaliação\n",
      "\t Bolsas de Apoio\n",
      "\t Requisição de Material para Importação\n",
      "\t Requisição de Serviço para Pessoa Jurídica\n",
      "\t Requisição de Reserva de Veículo\n",
      "\t Requisição de Meio Ambiente\n",
      "\t Requisição de Materiais Informacionais do Contrato\n",
      "\t Requisição de Atividade de Campo\n",
      "\t Requisição de Devolução de Material\n",
      "\t Grupos de Pesquisa\n",
      "\t Solicitação de Material de Registro de Preço\n",
      "\t Requisições de Materiais\n",
      "\t Componentes Curriculares\n",
      "\t Requisição de Materiais Informacionais\n",
      "\t Orientações de Docentes\n",
      "\t Estruturas Curriculares\n",
      "\t Bens Móveis\n",
      "\t Processos Seletivos\n",
      "\t Acervo da Biblioteca\n",
      "\t Planos Individuais Docentes\n",
      "\t Funções Gratificadas\n",
      "\t AVALIAÇÕES DE DESEMPENHO DE DOCENTES\n",
      "\t Convênios\n",
      "\t Requisição de Material para Participar de um Novo Registro de Preço\n",
      "\t Licitações\n",
      "\t Dados Complementares de Discentes\n",
      "\t Unidades Acadêmicas\n",
      "\t Atas Vigentes\n",
      "\t Acervo de Arte, Peças Museológicas e Documentos Históricos\n",
      "\t Atividades de Extensão\n",
      "\t Cursos da UFRN\n",
      "\t Indicadores de Pesquisa\n",
      "\t Requisição de Auxílio Financeiro ao Estudante\n",
      "\t Consumo Energético por campus\n",
      "\t Cursos de Pós Graduação\n",
      "\t Projetos de Ensino\n",
      "\t Bens Imóveis\n",
      "\t Homologação dos registros de ponto eletrônico dos servidores\n",
      "\t Ausências de Servidores\n",
      "\t Matrículas Em Componentes\n",
      "\t Processos Administrativos\n",
      "\t Telefones\n",
      "\t Concursos\n",
      "\t Unidades\n",
      "\t Docentes\n",
      "\t Quadro de Referência dos Servidores Técnico-Administrativos\n",
      "\t Gastos\n",
      "\t Requisição de Serviço\n",
      "\t Turmas\n",
      "\t Programas de Pós-Graduação\n",
      "\t Editais de Concursos\n",
      "\t Bolsistas de Iniciação Científica\n",
      "\t Projetos de Pesquisa\n",
      "\t Pesquisadores\n",
      "\t EGRESSOS\n",
      "\t Diplomas\n",
      "\t Requisição de Obra\n",
      "\t Estoques de Almoxarifado\n",
      "\t Solicitações de Afastamentos\n",
      "\t Empenhos\n",
      "\t Produtos de Extensão\n",
      "\t Contratos\n",
      "\t Currículo Componente\n",
      "\t Aposentadoria\n",
      "\t Obras\n",
      "\t Avaliação de Docência\n",
      "\t Progressões\n",
      "\t Resoluções\n",
      "\t Servidores\n",
      "\t Registro de Ponto Eletrônico de Servidores\n",
      "\t Docentes Externos\n",
      "\t Dados Sócio-Econômicos de Discentes\n",
      "\t Empréstimos dos Acervos das Bibliotecas\n",
      "\t Requisição de Diárias\n",
      "\t Discentes\n",
      "\t Boletim de Serviços\n",
      "\t Requisição de Material/Serviço Contratado\n",
      "\t Requisição de Hospedagem\n",
      "\t Requisição de Manutenção\n",
      "\t Requisição de Passagem\n",
      "\t Dados complementares de boletim\n"
     ]
    }
   ],
   "source": [
    "for o,organization_json_filepath in enumerate(organizations_jsons):\n",
    "    with open(os.path.join(data_directory_path,organization_json_filepath),'r') as f:\n",
    "        organization_json = json.load(f)\n",
    "    organization_directory_name = organization_json_filepath[:-5]\n",
    "    organization_directory_path = os.path.join(data_directory_path,organization_directory_name)\n",
    "\n",
    "    os.makedirs(organization_directory_path, exist_ok=True)\n",
    "\n",
    "    print(organization_directory_name)\n",
    "\n",
    "    for conjunto in organization_json['conjuntoDados']:\n",
    "        print('\\t',conjunto['title'])\n",
    "        for r,recurso in enumerate(conjunto['recursos']):\n",
    "            if not recurso['formato']: continue\n",
    "            url = urlparse(recurso['link'])\n",
    "            filename = url.path.split('/')[-1]\n",
    "            filepath = os.path.join(organization_directory_path,filename)\n",
    "            if os.path.exists(filepath): continue\n",
    "            print('\\t\\t',r, recurso['titulo'],filename)\n",
    "            urlretrieve(url.geturl(),filepath)\n"
   ]
  },
  {
   "cell_type": "code",
   "execution_count": null,
   "metadata": {},
   "outputs": [],
   "source": []
  }
 ],
 "metadata": {
  "kernelspec": {
   "display_name": "Python 3 (ipykernel)",
   "language": "python",
   "name": "python3"
  },
  "language_info": {
   "codemirror_mode": {
    "name": "ipython",
    "version": 3
   },
   "file_extension": ".py",
   "mimetype": "text/x-python",
   "name": "python",
   "nbconvert_exporter": "python",
   "pygments_lexer": "ipython3",
   "version": "3.11.5"
  }
 },
 "nbformat": 4,
 "nbformat_minor": 4
}
