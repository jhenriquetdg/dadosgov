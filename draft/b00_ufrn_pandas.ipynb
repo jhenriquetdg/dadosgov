{
 "cells": [
  {
   "cell_type": "markdown",
   "metadata": {},
   "source": [
    "#### Imports"
   ]
  },
  {
   "cell_type": "code",
   "execution_count": null,
   "metadata": {},
   "outputs": [],
   "source": [
    "import os\n",
    "import re\n",
    "import json\n",
    "\n",
    "import numpy as np\n",
    "%load_ext cudf.pandas\n",
    "import pandas as pd\n",
    "import networkx as nx\n",
    "import plotly.express as px\n",
    "\n",
    "from itertools import chain\n",
    "from unidecode import unidecode\n",
    "from matplotlib import pyplot as plt"
   ]
  },
  {
   "cell_type": "markdown",
   "metadata": {},
   "source": [
    "#### Configurating default behavior"
   ]
  },
  {
   "cell_type": "code",
   "execution_count": null,
   "metadata": {},
   "outputs": [],
   "source": [
    "pd.set_option('display.max_rows', 10)\n",
    "pd.set_option('display.max_columns', 50)\n",
    "pd.set_option('display.width', 15)"
   ]
  },
  {
   "cell_type": "code",
   "execution_count": null,
   "metadata": {},
   "outputs": [],
   "source": [
    "files_path = './data/universidade_federal_do_rio_grande_do_norte_-_ufrn'"
   ]
  },
  {
   "cell_type": "code",
   "execution_count": null,
   "metadata": {},
   "outputs": [],
   "source": [
    "json_path = './data/universidade_federal_do_rio_grande_do_norte_-_ufrn.json'"
   ]
  },
  {
   "cell_type": "code",
   "execution_count": null,
   "metadata": {},
   "outputs": [],
   "source": []
  },
  {
   "cell_type": "code",
   "execution_count": null,
   "metadata": {},
   "outputs": [],
   "source": [
    "with open(json_path, 'r') as f:\n",
    "    json_data = json.load(f)"
   ]
  },
  {
   "cell_type": "markdown",
   "metadata": {},
   "source": [
    "#### Auxiliar functions"
   ]
  },
  {
   "cell_type": "code",
   "execution_count": null,
   "metadata": {},
   "outputs": [],
   "source": [
    "online_resources = list(chain(*[[l['link'] for l in d['recursos'] if 'formato' in l and l['formato'] == 'CSV'] for d in json_data['conjuntoDados']]))\n",
    "offline_resources = [os.path.join(files_path,p) for p in os.listdir(files_path)]"
   ]
  },
  {
   "cell_type": "code",
   "execution_count": null,
   "metadata": {},
   "outputs": [],
   "source": [
    "db_resources = online_resources\n",
    "db_resources = offline_resources"
   ]
  },
  {
   "cell_type": "code",
   "execution_count": null,
   "metadata": {},
   "outputs": [],
   "source": [
    "resources_containing = lambda sw: [r for r in db_resources if sw in r and r.endswith('.csv')]\n",
    "dataframe_containing = lambda sw : pd.concat([pd.read_csv(csv, sep=';',decimal=',') for csv in resources_containing(sw)])"
   ]
  },
  {
   "cell_type": "markdown",
   "metadata": {},
   "source": [
    "#### Loading curricular data"
   ]
  },
  {
   "cell_type": "code",
   "execution_count": null,
   "metadata": {},
   "outputs": [],
   "source": [
    "compontentes = dataframe_containing(\"componentes-curriculares\")"
   ]
  },
  {
   "cell_type": "code",
   "execution_count": null,
   "metadata": {},
   "outputs": [],
   "source": [
    "estruturas_curriculares = dataframe_containing('estruturas-curriculares')"
   ]
  },
  {
   "cell_type": "code",
   "execution_count": null,
   "metadata": {},
   "outputs": [],
   "source": [
    "estruturas_curriculares_componentes = dataframe_containing('curriculo-componente')"
   ]
  },
  {
   "cell_type": "markdown",
   "metadata": {},
   "source": [
    "https://sparkbyexamples.com/pandas/pandas-group-dataframe-rows-list-groupby/"
   ]
  },
  {
   "cell_type": "code",
   "execution_count": null,
   "metadata": {},
   "outputs": [],
   "source": [
    "matriculas = []\n",
    "\n",
    "for matricula_csv_filepath in resources_containing('matricula'):\n",
    "    matriculas.append(pd.read_csv(\n",
    "        matricula_csv_filepath, \n",
    "        sep=';',\n",
    "        decimal=',',\n",
    "        usecols=[\n",
    "            'id_turma',\n",
    "            'descricao',\n",
    "            'discente',\n",
    "            'unidade',\n",
    "            'nota'\n",
    "        ],dtype={\n",
    "            'id_turma':int,\n",
    "            'descricao':str,\n",
    "            'discente':str,\n",
    "            'unidade':float,\n",
    "            'nota':float\n",
    "        }).drop_duplicates().sort_values([\n",
    "            'id_turma',\n",
    "            'descricao',\n",
    "            'discente',\n",
    "            'unidade',\n",
    "            'nota'\n",
    "        ]).groupby([\n",
    "            'id_turma',\n",
    "            'discente',\n",
    "            'descricao'\n",
    "        ]).agg(list).reset_index()\n",
    "    )\n",
    "    \n",
    "matriculas = pd.concat(matriculas)"
   ]
  },
  {
   "cell_type": "code",
   "execution_count": null,
   "metadata": {},
   "outputs": [],
   "source": [
    "matriculas['n_unidade'] = matriculas['nota'].apply(len)"
   ]
  },
  {
   "cell_type": "code",
   "execution_count": null,
   "metadata": {},
   "outputs": [],
   "source": [
    "matriculas[==6]"
   ]
  },
  {
   "cell_type": "code",
   "execution_count": null,
   "metadata": {},
   "outputs": [],
   "source": [
    "px.histogram(matriculas['nota'].apply(np.nanmean),nbins=100)"
   ]
  },
  {
   "cell_type": "code",
   "execution_count": null,
   "metadata": {},
   "outputs": [],
   "source": [
    "y = df_gb['nota'].apply(list)"
   ]
  },
  {
   "cell_type": "markdown",
   "metadata": {},
   "source": [
    "#### Filtering curricular data"
   ]
  },
  {
   "cell_type": "code",
   "execution_count": null,
   "metadata": {},
   "outputs": [],
   "source": [
    "id_valid_year = estruturas_curriculares['ano_entrada_vigor']!=0\n",
    "\n",
    "id_estruturas_curriculares = id_valid_year\n",
    "\n",
    "estruturas_curriculares = estruturas_curriculares[id_estruturas_curriculares]"
   ]
  },
  {
   "cell_type": "code",
   "execution_count": null,
   "metadata": {},
   "outputs": [],
   "source": [
    "id_valid_curricula = estruturas_curriculares_componentes['id_curriculo'].isin(estruturas_curriculares['id_curriculo'])\n",
    "id_valid_component = estruturas_curriculares_componentes['id_componente_curricular'].isin(compontentes['id_componente'])\n",
    "\n",
    "id_estruturas_curriculares_componentes = id_valid_curricula & id_valid_component\n",
    "\n",
    "estruturas_curriculares_componentes = estruturas_curriculares_componentes[id_estruturas_curriculares_componentes]"
   ]
  },
  {
   "cell_type": "code",
   "execution_count": null,
   "metadata": {},
   "outputs": [],
   "source": [
    "id_graduacao = compontentes['nivel'] == \"G\"\n",
    "\n",
    "id_componentes = np.array([True]*len(compontentes))\n",
    "# id_componentes = id_componentes & id_graduacao))))\n",
    "\n",
    "compontentes = compontentes[id_componentes]"
   ]
  },
  {
   "cell_type": "markdown",
   "metadata": {},
   "source": [
    "#### Transforming data"
   ]
  },
  {
   "cell_type": "markdown",
   "metadata": {},
   "source": [
    "##### Requirement tree"
   ]
  },
  {
   "cell_type": "code",
   "execution_count": null,
   "metadata": {},
   "outputs": [],
   "source": [
    "compontentes['equivalencia'] = compontentes['equivalencia'].apply(lambda x: x.strip(' ') if type(x) == str else '(  )')\n",
    "compontentes['co_requisito'] = compontentes['co_requisito'].apply(lambda x: x.strip(' ') if type(x) == str else '(  )')\n",
    "compontentes['pre_requisito'] = compontentes['pre_requisito'].apply(lambda x: x.strip(' ') if type(x) == str else '(  )')"
   ]
  },
  {
   "cell_type": "code",
   "execution_count": null,
   "metadata": {},
   "outputs": [],
   "source": [
    "id_component_invalid = compontentes['pre_requisito'].apply(lambda x: len(re.findall(r'\\b[^\\.](\\d+)',x)) > 0)"
   ]
  },
  {
   "cell_type": "code",
   "execution_count": null,
   "metadata": {},
   "outputs": [],
   "source": [
    "for x in compontentes[id_component_invalid].iloc:\n",
    "    id_componentes = [int(x) for x in x['pre_requisito'].strip('( )').split()]\n",
    "    comp = compontentes[compontentes['id_componente'].isin(id_componentes)]\n",
    "    \n",
    "    pre_requisito = '( ( ' + ' ) E ( '.join(comp['codigo'].values) + ' ) )'\n",
    "    \n",
    "    compontentes.loc[compontentes['id_componente'] == x['id_componente'],'pre_requisito'] = pre_requisito"
   ]
  },
  {
   "cell_type": "markdown",
   "metadata": {},
   "source": [
    "### Filtering"
   ]
  },
  {
   "cell_type": "code",
   "execution_count": null,
   "metadata": {},
   "outputs": [],
   "source": [
    "all_compontentes = compontentes.copy()\n",
    "all_estruturas_curriculares = estruturas_curriculares.copy()\n",
    "all_estruturas_curriculares_componentes = estruturas_curriculares_componentes.copy()"
   ]
  },
  {
   "cell_type": "code",
   "execution_count": null,
   "metadata": {},
   "outputs": [],
   "source": [
    "patterns =['cien.*comp','tecno.*info','eng.*sof']\n",
    "id = [False] * all_estruturas_curriculares.shape[0]\n",
    "for pattern in patterns:\n",
    "    id = id | all_estruturas_curriculares['nome_curso'].apply(lambda nome:  len(re.findall(pattern,unidecode(nome.lower())))!=0).values\n",
    "estruturas_curriculares = all_estruturas_curriculares[id]"
   ]
  },
  {
   "cell_type": "code",
   "execution_count": null,
   "metadata": {},
   "outputs": [],
   "source": [
    "estruturas_curriculares_componentes = all_estruturas_curriculares_componentes[all_estruturas_curriculares_componentes['id_curriculo'].isin(estruturas_curriculares['id_curriculo'])]\n",
    "estruturas_curriculares = estruturas_curriculares[estruturas_curriculares['id_curriculo'].isin(estruturas_curriculares_componentes['id_curriculo'])]\n",
    "estruturas_curriculares = estruturas_curriculares[estruturas_curriculares['nome_matriz'].apply(lambda nm: not nm is np.nan)]"
   ]
  },
  {
   "cell_type": "markdown",
   "metadata": {},
   "source": [
    "## Analysing DIMAP/IMD data"
   ]
  },
  {
   "cell_type": "code",
   "execution_count": null,
   "metadata": {},
   "outputs": [],
   "source": [
    "estrutura_curricular = estruturas_curriculares.iloc[0]\n",
    "estrutura_curricular"
   ]
  },
  {
   "cell_type": "code",
   "execution_count": null,
   "metadata": {},
   "outputs": [],
   "source": [
    "estrutura_curricular_componentes_info = estruturas_curriculares_componentes[estruturas_curriculares_componentes['id_curriculo'] == estrutura_curricular['id_curriculo']]\n",
    "estrutura_curricular_componentes_info = estrutura_curricular_componentes_info.merge(compontentes, left_on='id_componente_curricular', right_on='id_componente')\n",
    "estrutura_curricular_componentes_info = estrutura_curricular_componentes_info.merge(estruturas_curriculares, left_on='id_curriculo', right_on='id_curriculo')"
   ]
  },
  {
   "cell_type": "code",
   "execution_count": null,
   "metadata": {},
   "outputs": [],
   "source": [
    "estrutura_curricular_codigo_componentes = set(estrutura_curricular_componentes_info['codigo_x'].values)\n",
    "\n",
    "estrutura_curricular_codigo_componentes.update(set(chain(*estrutura_curricular_componentes_info['equivalencia'].apply(lambda x: re.findall(r'\\w+\\d+',x) if type(x) == str else []).values)))\n",
    "estrutura_curricular_codigo_componentes.update(set(chain(*estrutura_curricular_componentes_info['co_requisito'].apply(lambda x: re.findall(r'\\w+\\d+',x) if type(x) == str else []).values)))\n",
    "estrutura_curricular_codigo_componentes.update(set(chain(*estrutura_curricular_componentes_info['pre_requisito'].apply(lambda x: re.findall(r'\\w+\\d+',x) if type(x) == str else []).values)))"
   ]
  },
  {
   "cell_type": "code",
   "execution_count": null,
   "metadata": {},
   "outputs": [],
   "source": [
    "estrutura_curricular_componentes = compontentes[compontentes['codigo'].isin(estrutura_curricular_codigo_componentes)]"
   ]
  },
  {
   "cell_type": "code",
   "execution_count": null,
   "metadata": {},
   "outputs": [],
   "source": [
    "estrutura_curricular"
   ]
  },
  {
   "cell_type": "code",
   "execution_count": null,
   "metadata": {},
   "outputs": [],
   "source": [
    "a = estrutura_curricular_componentes_info[estrutura_curricular_componentes_info['tipo_vinculo_componente'] == 'OBRIGATÓRIO']"
   ]
  },
  {
   "cell_type": "code",
   "execution_count": null,
   "metadata": {},
   "outputs": [],
   "source": [
    "a['equivalencia']"
   ]
  },
  {
   "cell_type": "code",
   "execution_count": null,
   "metadata": {},
   "outputs": [],
   "source": [
    "re.sub('(\\w+\\d+)',r'( \\1 )',a['equivalencia'].iloc[0])"
   ]
  },
  {
   "cell_type": "code",
   "execution_count": null,
   "metadata": {},
   "outputs": [],
   "source": [
    "i = 0"
   ]
  },
  {
   "cell_type": "code",
   "execution_count": null,
   "metadata": {},
   "outputs": [],
   "source": [
    "i = 10"
   ]
  },
  {
   "cell_type": "code",
   "execution_count": null,
   "metadata": {},
   "outputs": [],
   "source": [
    "# i+=1\n",
    "x1 = a['equivalencia'].iloc[i]\n",
    "x2 = re.sub('[^\\(]\\s?(\\w+\\d+)\\s?´^\\)]', r' ( \\1 ) ', x1)\n",
    "\n",
    "print(i)\n",
    "print(x1)\n",
    "print(x2)\n"
   ]
  },
  {
   "cell_type": "code",
   "execution_count": null,
   "metadata": {},
   "outputs": [],
   "source": [
    "a['equivalencia']"
   ]
  },
  {
   "cell_type": "code",
   "execution_count": null,
   "metadata": {},
   "outputs": [],
   "source": []
  },
  {
   "cell_type": "code",
   "execution_count": null,
   "metadata": {},
   "outputs": [],
   "source": [
    "a['equivalencia'].apply(lambda x: (x,re.sub('\\s*\\(?\\s*(\\w+\\d+)\\s*\\)\\s*',r' ( \\1 ) ',x)))"
   ]
  },
  {
   "cell_type": "code",
   "execution_count": null,
   "metadata": {},
   "outputs": [],
   "source": [
    "[(eq,re.findall('([^\\(\\)]+)',eq)) for eq in a['equivalencia'].iloc]"
   ]
  },
  {
   "cell_type": "code",
   "execution_count": null,
   "metadata": {},
   "outputs": [],
   "source": [
    "for eq in a['equivalencia'].iloc:\n",
    "    print(eq,re.findall('[^\\( \\)]+',eq))\n",
    "    print(eq,re.findall('([^\\(\\)]+)',eq))"
   ]
  },
  {
   "cell_type": "code",
   "execution_count": null,
   "metadata": {},
   "outputs": [],
   "source": []
  },
  {
   "cell_type": "code",
   "execution_count": null,
   "metadata": {},
   "outputs": [],
   "source": [
    "a"
   ]
  },
  {
   "cell_type": "code",
   "execution_count": null,
   "metadata": {},
   "outputs": [],
   "source": [
    "id_ecc_wo_equivalence = estrutura_curricular_componentes['equivalencia'].apply(lambda x: x =='(  )')\n",
    "id_ecc_wo_requirement = estrutura_curricular_componentes['pre_requisito'].apply(lambda x: x =='(  )')\n",
    "id_ecc_wo_corequirement = estrutura_curricular_componentes['co_requisito'].apply(lambda x: x =='(  )')\n",
    "\n",
    "id_ecc = id_ecc_wo_equivalence & id_ecc_wo_requirement & id_ecc_wo_corequirement"
   ]
  },
  {
   "cell_type": "code",
   "execution_count": null,
   "metadata": {},
   "outputs": [],
   "source": []
  },
  {
   "cell_type": "code",
   "execution_count": null,
   "metadata": {},
   "outputs": [],
   "source": [
    "compontentes = compontentes[(compontentes['unidade_responsavel'] == 'INSTITUTO METROPOLE DIGITAL') | (compontentes['unidade_responsavel'] == 'DEPARTAMENTO DE INFORMÁTICA E MATEMÁTICA APLICADA')]\n",
    "compontentes = compontentes[['id_componente','codigo','nome','ch_total']]"
   ]
  },
  {
   "cell_type": "code",
   "execution_count": null,
   "metadata": {},
   "outputs": [],
   "source": [
    "turmas = dataframe_containing(\"turma\")\n",
    "\n",
    "turmas = turmas[turmas['nivel_ensino'] == 'GRADUAÇÃO']\n",
    "turmas = turmas[turmas['situacao_turma'] == 'CONSOLIDADA']\n",
    "turmas = turmas[turmas['id_componente_curricular'].isin(compontentes['id_componente'])]\n",
    "turmas.data_consolidacao = pd.to_datetime(turmas.data_consolidacao)\n",
    "\n",
    "turmas = turmas[['id_turma','siape','id_componente_curricular','ch_dedicada_periodo','descricao_horario','data_consolidacao']]\n",
    "turmas['ano'] = [d.year for d in turmas.data_consolidacao]\n",
    "turmas = turmas.dropna()"
   ]
  },
  {
   "cell_type": "code",
   "execution_count": null,
   "metadata": {},
   "outputs": [],
   "source": [
    "matriculas = dataframe_containing(\"matricula\")\n",
    "\n",
    "matriculas.drop(['unidade','nota','reposicao','faltas_unidade'], axis=1, inplace=True)\n",
    "matriculas = matriculas[matriculas['id_turma'].isin(turmas['id_turma'])]\n",
    "\n",
    "matricula_id_descricao = { k:v for k,v in enumerate(matriculas['descricao'].unique()) }\n",
    "matricula_descricao_id = { v:k for k,v in enumerate(matriculas['descricao'].unique()) }\n",
    "\n",
    "matriculas['descricao'] = matriculas['descricao'].map(matricula_descricao_id)\n",
    "matriculas = matriculas[matriculas['media_final'] != 0]\n",
    "matriculas = matriculas.drop_duplicates()"
   ]
  },
  {
   "cell_type": "code",
   "execution_count": null,
   "metadata": {},
   "outputs": [],
   "source": [
    "cursos = dataframe_containing('cursos-ufrn')\n",
    "cursos = cursos[cursos['id_curso'].isin(matriculas['id_curso'])]\n",
    "cursos = cursos[['id_curso','nome']]"
   ]
  },
  {
   "cell_type": "code",
   "execution_count": null,
   "metadata": {},
   "outputs": [],
   "source": [
    "import plotly.express as px"
   ]
  },
  {
   "cell_type": "code",
   "execution_count": null,
   "metadata": {},
   "outputs": [],
   "source": [
    "px.histogram(matriculas, x='media_final', nbins=100,width=800)"
   ]
  },
  {
   "cell_type": "code",
   "execution_count": null,
   "metadata": {},
   "outputs": [],
   "source": [
    "turmas"
   ]
  },
  {
   "cell_type": "code",
   "execution_count": null,
   "metadata": {},
   "outputs": [],
   "source": [
    "px.histogram(matriculas, y='descricao',width=800)"
   ]
  },
  {
   "cell_type": "code",
   "execution_count": null,
   "metadata": {},
   "outputs": [],
   "source": [
    "plt.subplots(4,4,figsize=(20,10))\n",
    "c = 0\n",
    "for g,gg in turmas.groupby('ano'):\n",
    "    c+=1\n",
    "    ax = plt.subplot(4,4,c)\n",
    "    plt.hist(matriculas[matriculas['id_turma'].isin(gg.id_turma)].media_final,bins=np.arange(0,10.5,.5));\n",
    "    plt.title(int(g))\n",
    "    plt.ylim(0,1500)\n",
    "    plt.xticks(np.arange(0,10.5,1))\n",
    "    plt.grid(True)\n",
    "    pos = ax.get_position()\n",
    "    pos.y1 = pos.y1*.95\n",
    "    ax.set_position(pos)\n",
    "    \n",
    "    "
   ]
  },
  {
   "cell_type": "code",
   "execution_count": null,
   "metadata": {},
   "outputs": [],
   "source": []
  },
  {
   "cell_type": "code",
   "execution_count": null,
   "metadata": {},
   "outputs": [],
   "source": [
    "df = matriculas.merge(turmas, on='id_turma', how='right')\n",
    "df.rename(columns={'id_componente_curricular':'id_componente'}, inplace=True)\n",
    "df = df.merge(compontentes, on='id_componente', how='left')\n",
    "df = df.dropna()\n",
    "df = df.drop_duplicates()\n",
    "df['ano'] = df['ano'].astype(int)\n",
    "df['descricao_horario'] = [' '.join(re.findall('[2-7]+[MTN][1-6]+',h)) for h in df['descricao_horario']]"
   ]
  },
  {
   "cell_type": "code",
   "execution_count": null,
   "metadata": {},
   "outputs": [],
   "source": [
    "df.sample(4).T"
   ]
  },
  {
   "cell_type": "code",
   "execution_count": null,
   "metadata": {},
   "outputs": [],
   "source": [
    "from itertools import product"
   ]
  },
  {
   "cell_type": "code",
   "execution_count": null,
   "metadata": {},
   "outputs": [],
   "source": [
    "graphs_by_year = {}\n",
    "for ano,df_ano in df.groupby(['ano']):\n",
    "    Graph1 = nx.Graph()\n",
    "    for codigo,disciplina in df_ano.groupby('codigo'):\n",
    "        media = disciplina['media_final'].mean()\n",
    "        mediana = disciplina['media_final'].median()\n",
    "        Graph1.add_node(codigo, nome=disciplina['nome'].iloc[0], media=media, mediana=mediana)\n",
    "\n",
    "    for d,discente in df_ano.groupby('discente'):\n",
    "        A = discente[['codigo','media_final']].values\n",
    "        for a,b in product(A,A):\n",
    "            Graph1.add_edge(a[0],b[0],mean=(a[1]+b[1])/2)\n",
    "    \n",
    "    graphs_by_year[ano[0]] = Graph1"
   ]
  },
  {
   "cell_type": "code",
   "execution_count": null,
   "metadata": {},
   "outputs": [],
   "source": [
    "nx.draw(graphs_by_year[2008],with_labels=True)"
   ]
  },
  {
   "cell_type": "code",
   "execution_count": null,
   "metadata": {},
   "outputs": [],
   "source": [
    "from pyvis.network import Network"
   ]
  },
  {
   "cell_type": "code",
   "execution_count": null,
   "metadata": {},
   "outputs": [],
   "source": [
    "nt = Network('100%', '500px',notebook=True,cdn_resources='in_line')\n",
    "# populates the nodes and edges data structures\n",
    "nt.from_nx(graphs_by_year[2009])\n",
    "nt.barnes_hut()\n",
    "\n",
    "nt.show_buttons(filter_=['physics'])\n",
    "nt.show('nx.html')"
   ]
  },
  {
   "cell_type": "code",
   "execution_count": null,
   "metadata": {},
   "outputs": [],
   "source": [
    "graphs_by_year[2009].nodes(data=True)"
   ]
  },
  {
   "cell_type": "code",
   "execution_count": null,
   "metadata": {},
   "outputs": [],
   "source": [
    "graphs_by_year[2009].edges(data=True)"
   ]
  }
 ],
 "metadata": {
  "kernelspec": {
   "display_name": "Python 3 (ipykernel)",
   "language": "python",
   "name": "python3"
  },
  "language_info": {
   "codemirror_mode": {
    "name": "ipython",
    "version": 3
   },
   "file_extension": ".py",
   "mimetype": "text/x-python",
   "name": "python",
   "nbconvert_exporter": "python",
   "pygments_lexer": "ipython3",
   "version": "3.10.13"
  }
 },
 "nbformat": 4,
 "nbformat_minor": 4
}
