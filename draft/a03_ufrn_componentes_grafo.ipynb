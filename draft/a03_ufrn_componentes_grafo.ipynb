{
 "cells": [
  {
   "cell_type": "code",
   "execution_count": 1,
   "metadata": {},
   "outputs": [],
   "source": [
    "import os\n",
    "import re\n",
    "import json\n",
    "import numpy as np\n",
    "import pandas as pd\n",
    "import plotly.express as px\n",
    "\n",
    "from itertools import chain\n",
    "from unidecode import unidecode"
   ]
  },
  {
   "cell_type": "code",
   "execution_count": 2,
   "metadata": {},
   "outputs": [],
   "source": [
    "proc_recursos_caminho = '../data/proc/universidade_federal_do_rio_grande_do_norte_-_ufrn'\n",
    "raw_recursos_caminho = '../data/raw/universidade_federal_do_rio_grande_do_norte_-_ufrn'"
   ]
  },
  {
   "cell_type": "code",
   "execution_count": 3,
   "metadata": {},
   "outputs": [],
   "source": [
    "resource_re_pattern = lambda pattern: [os.path.join(raw_recursos_caminho,filename) for filename in os.listdir(raw_recursos_caminho) if len(re.findall(pattern,filename))]"
   ]
  },
  {
   "cell_type": "code",
   "execution_count": 4,
   "metadata": {},
   "outputs": [],
   "source": [
    "read_csv_pattern = lambda pattern : pd.concat(pd.read_csv(filepath,sep=';') for filepath in resource_re_pattern(pattern) if filepath.endswith('.csv'))"
   ]
  },
  {
   "cell_type": "code",
   "execution_count": 5,
   "metadata": {},
   "outputs": [],
   "source": [
    "estruturas_curriculares = read_csv_pattern('estruturas-curriculares')\n",
    "componentes_curriculares = read_csv_pattern('componentes-curriculares')\n",
    "curriculo_componente = read_csv_pattern('curriculo-componente')"
   ]
  },
  {
   "cell_type": "code",
   "execution_count": 6,
   "metadata": {},
   "outputs": [],
   "source": [
    "estruturas_curriculares = estruturas_curriculares[~estruturas_curriculares['nome_matriz'].isna()]\n",
    "curriculo_componente = curriculo_componente[curriculo_componente['id_curriculo'].isin(estruturas_curriculares['id_curriculo'])]\n",
    "componentes_curriculares = componentes_curriculares[componentes_curriculares['id_componente'].isin(curriculo_componente['id_componente_curricular'])]"
   ]
  },
  {
   "cell_type": "code",
   "execution_count": 8,
   "metadata": {},
   "outputs": [],
   "source": [
    "componentes_curriculares.at[26941,'pre_requisito'] = '( ECT1401 ) E ( ECT1402 )'"
   ]
  },
  {
   "cell_type": "code",
   "execution_count": 9,
   "metadata": {},
   "outputs": [
    {
     "name": "stdout",
     "output_type": "stream",
     "text": [
      "equivalencia\n",
      "pre_requisito\n",
      "co_requisito\n"
     ]
    }
   ],
   "source": [
    "def _parse(x):\n",
    "    x = '' if type(x) != str else x\n",
    "\n",
    "    import re\n",
    "    x = x.strip()\n",
    "    x = re.sub(\"([A-Z]+[0-9]+\\.?[0-9]*)\",r\"'\\1'\",x)\n",
    "    x = re.sub(\"(\\sE\\s)\",r' and ',x)\n",
    "    x = re.sub(\"(\\sOU\\s)\",r' or ',x)\n",
    "\n",
    "    import ast\n",
    "    z = ast.parse(x)\n",
    "    return ast.unparse(z).replace('\"\"\"',\"'\").strip()\n",
    "    # return x\n",
    "\n",
    "for col in ['equivalencia', 'pre_requisito', 'co_requisito']:\n",
    "    print(col)\n",
    "    componentes_curriculares[col+'_parse'] = componentes_curriculares[col].apply(_parse)\n",
    "    componentes_curriculares[col+'_len'] = componentes_curriculares[col].apply(lambda e: len(e) if type(e)==str else 0)"
   ]
  },
  {
   "cell_type": "code",
   "execution_count": 10,
   "metadata": {},
   "outputs": [],
   "source": [
    "import ast"
   ]
  },
  {
   "cell_type": "code",
   "execution_count": 11,
   "metadata": {},
   "outputs": [
    {
     "data": {
      "text/plain": [
       "\"'FIS0001' and 'FIS0002' or 'MEC0301' or 'CIV0302' or ('MEC0351' and 'MEC0352' and 'MEC0359') or ('ECT1402' or 'ECT2412')\""
      ]
     },
     "execution_count": 11,
     "metadata": {},
     "output_type": "execute_result"
    }
   ],
   "source": [
    "eq = componentes_curriculares[componentes_curriculares['equivalencia_parse'].apply(len)>100]['equivalencia_parse'].values[0]\n",
    "eq"
   ]
  },
  {
   "cell_type": "code",
   "execution_count": 12,
   "metadata": {},
   "outputs": [
    {
     "data": {
      "text/plain": [
       "<ast.Module at 0x7f3212039ed0>"
      ]
     },
     "execution_count": 12,
     "metadata": {},
     "output_type": "execute_result"
    }
   ],
   "source": [
    "module = ast.parse(eq)\n",
    "module"
   ]
  },
  {
   "cell_type": "code",
   "execution_count": 13,
   "metadata": {},
   "outputs": [
    {
     "data": {
      "text/plain": [
       "[<ast.Expr at 0x7f321203b220>]"
      ]
     },
     "execution_count": 13,
     "metadata": {},
     "output_type": "execute_result"
    }
   ],
   "source": [
    "module.body"
   ]
  },
  {
   "cell_type": "code",
   "execution_count": 14,
   "metadata": {},
   "outputs": [
    {
     "data": {
      "text/plain": [
       "<ast.Expr at 0x7f321203b220>"
      ]
     },
     "execution_count": 14,
     "metadata": {},
     "output_type": "execute_result"
    }
   ],
   "source": [
    "expr = module.body[0]\n",
    "expr"
   ]
  },
  {
   "cell_type": "code",
   "execution_count": 15,
   "metadata": {},
   "outputs": [
    {
     "data": {
      "text/plain": [
       "<ast.BoolOp at 0x7f321203bac0>"
      ]
     },
     "execution_count": 15,
     "metadata": {},
     "output_type": "execute_result"
    }
   ],
   "source": [
    "value = expr.value\n",
    "value"
   ]
  },
  {
   "cell_type": "code",
   "execution_count": 16,
   "metadata": {},
   "outputs": [],
   "source": [
    "op = value.op"
   ]
  },
  {
   "cell_type": "code",
   "execution_count": 17,
   "metadata": {},
   "outputs": [
    {
     "data": {
      "text/plain": [
       "<ast.Or at 0x7f326eb25600>"
      ]
     },
     "execution_count": 17,
     "metadata": {},
     "output_type": "execute_result"
    }
   ],
   "source": [
    "op"
   ]
  },
  {
   "cell_type": "code",
   "execution_count": 18,
   "metadata": {},
   "outputs": [
    {
     "data": {
      "text/plain": [
       "[<ast.BoolOp at 0x7f321203a500>,\n",
       " <ast.Constant at 0x7f321203ace0>,\n",
       " <ast.Constant at 0x7f321203ad10>,\n",
       " <ast.BoolOp at 0x7f321203ad40>,\n",
       " <ast.BoolOp at 0x7f321203a8f0>]"
      ]
     },
     "execution_count": 18,
     "metadata": {},
     "output_type": "execute_result"
    }
   ],
   "source": [
    "value.values"
   ]
  },
  {
   "cell_type": "code",
   "execution_count": 171,
   "metadata": {},
   "outputs": [
    {
     "data": {
      "text/plain": [
       "'MEC0301'"
      ]
     },
     "execution_count": 171,
     "metadata": {},
     "output_type": "execute_result"
    }
   ],
   "source": [
    "value.values[1].value"
   ]
  },
  {
   "cell_type": "code",
   "execution_count": 125,
   "metadata": {},
   "outputs": [
    {
     "data": {
      "text/plain": [
       "array(['( ( FIS0001 E FIS0002 ) ) OU ( MEC0301 ) OU ( CIV0302 ) OU ( MEC0351 E MEC0352 E MEC0359 ) OU ( ECT1402 OU ECT2412 ) ',\n",
       "       '( DIM0041 OU DIM0004 OU FIS0610 OU DIM0302 OU CEA0090 OU DIM0044 ) OU ( DIM0044 ) OU ( DIM0404 ) OU ( MAT1527 ) ',\n",
       "       '( MAT0005 ) OU ( MAT0202 ) OU ( MAT0321 ) OU ( MAT0229 ) OU ( MAT0059 E MAT0060 ) OU ( MAT0346 ) OU ( MAT0341 ) OU ( ECT1202 ) OU ( ECT1212 ) ',\n",
       "       '( MAT0007 ) OU ( MAT0343 ) OU ( MAT0203 ) OU ( MAT0056 ) OU ( MAT0064 E MAT0065 ) OU ( MAT0230 ) OU ( MAT0319 ) OU ( PRO1003 ) OU ( MAT0221 ) ',\n",
       "       '( EST0314 ) OU ( EST0313 ) OU ( EST0317 ) OU ( EST0312 ) OU ( PRO1005 ) OU ( ECT1301 ) OU ( EST0311 ) OU ( EST0062 E EST0115 E EST0116 ) OU ( EST0062 E EST0067 ) ',\n",
       "       '( MAT0061 OU MAT0049 ) OU ( DCA0429 ) OU ( MAT0342 ) OU ( MAT0347 ) OU ( ELE0581 ) OU ( PRO1002 OU MAT0024 ) OU ( MAT0232 ) ',\n",
       "       '( MAT1513 E MAT1518 ) OU ( MAT0059 ) OU ( MAT0321 E ( MAT0322 OU MAT0060 ) ) OU ( MAT0312 ) OU ( MAT0005 ) OU ( ECT1202 ) ',\n",
       "       '( ( MAT0057 OU MAT0225 ) E MAT0058 ) OU MAT0318 OU MAT0340 OU MAT0311 OU MAT0228 OU ( MAT0003 E MAT0004 ) OU ECT1102 OU MAT0023 OU ( MAT1505 E MAT1509 ) OU IMD0024 ',\n",
       "       '( ADM0031 OU CSH0001 OU ENF0202 OU QUI0240 OU FIL0004 OU SSO0083 ) OU ( CIN0038 E CIN0039 ) OU ( PRO1006 ) OU ( BEZ0059 ) OU ( CON4302 ) ',\n",
       "       '( CSH0107 OU DHG0001 ) OU ( DCS0331 ) OU ( DAN0011 ) OU ( DAN0103 ) OU ( DAN0305 ) OU ( PSI0305 ) OU ( DAN0136 ) OU ( DAT0139 ) OU ( EDU0586 ) OU ( DAN0034 ) OU ( DAN0023 ) ',\n",
       "       '( FIS0001 E FIS0002 ) OU ( FIS0103 ) OU ( FIS0701 ) OU ( FIS0601 ) OU ( ECT1214 ) OU ( ECT2204 ) OU ( FIS0801 ) ',\n",
       "       '( FIS0701 ) OU ( FIS0001 E FIS0002 ) OU ( FIS0311 ) OU ( FIS0101 ) OU ( FIS0103 ) OU ( ECT1204 ) OU ( FIS0801 ) ',\n",
       "       '( MAT0311 ) OU ( MAT0318 ) OU ( MAT0340 ) OU ( MAT0345 ) OU ( MAT0225 ) OU ( MAT0003 ) OU ( MAT0222 ) OU ( MAT0004 ) OU ( CEA0002 ) ',\n",
       "       '( MAT0340 ) OU ( MAT0057 E MAT0058 ) OU ( MAT0004 ) OU ( MAT0228 ) OU ( MAT0318 ) OU ( MAT0201 ) OU ( MAT0345 ) OU ( PRO1001 ) OU ( ECT1102 ) OU ( ECT1113 ) OU ( CAC0001 ) ',\n",
       "       '( QUI0021 ) OU ( QUI0011 ) OU ( QUI0003 ) OU ( QUI0014 ) OU ( QUI0032 ) OU ( QUI0246 ) OU ( QUI0311 ) OU ( QUI0310 ) OU ( QUI0028 ) OU ( QUI0345 ) ',\n",
       "       '( QUI0014 ) OU ( QUI0030 ) OU ( QUI0002 ) OU ( QUI0011 ) OU ( QUI0246 ) OU ( QUI0310 ) OU ( QUI0510 ) OU ( QUI0021 ) OU ( QUI0070 ) ',\n",
       "       '( ( ( DOL0018 ) OU ( DOL0032 ) ) E ( DOL0021 ) E ( DOL0020 OU DOL0033 ) ) OU ( DOL0059 E DOL0060 E DOL0069 ) ',\n",
       "       '( BEZ2003 ) OU ( BEZ0205 E BEZ0103 E ( BEZ0208 OU BEZ0202 ) ) OU ( ( BEZ0202 OU BEZ0208 ) E BEZ0102 E BEZ0103 ) ',\n",
       "       '( CST3005 ) OU ( CST1060 ) OU ( CST1001 ) OU ( CST3176 ) OU ( CST3190 E CST3191 ) OU ( CST3190 E CST3215 E CST3216 ) ',\n",
       "       '( ( CST3001 ) E ( CST3007 ) ) OU ( CST1005 ) OU ( CST2061 ) OU ( CST3168 ) OU ( CST3169 ) OU ( CST1139 ) OU ( CST3169 ) OU ( CST3188 E CST3189 ) OU ( CST3188 E CST3217 E CST3218 ) ',\n",
       "       '( ( CST3001 ) E ( CST3007 ) ) OU ( CST1005 ) OU ( CST2061 ) OU ( CST2066 ) OU ( CST1005 ) OU ( CST3130 ) OU ( CST3219 E CST3220 E CST3221 ) ',\n",
       "       '( DGC0258 OU DHG0105 OU DHG0258 OU DGC0174 OU DHG0174 OU DGC0288 ) OU ( DGC0225 E DGC0228 ) ',\n",
       "       '( DGC0258 OU DHG0105 OU DHG0258 OU DGC0174 OU DHG0174 OU DGC0196 ) OU ( DGC0220 E DGC0221 ) ',\n",
       "       '( CST2086 ) OU ( CST2189 ) OU ( CST2194 ) OU ( CST2238 E CST2239 E CST2240 E CST2281 E CST2280 ) OU ( CST2237 E CST2238 E CST2239 E CST2240 ) ',\n",
       "       'MAT0311 OU MAT0318 OU MAT0345 OU MAT0228 OU MAT0004 OU MAT0340 OU ( MAT0057 E MAT0058 ) OU ECT1102 OU MAT0023 ',\n",
       "       '( DFS0029 OU DFS0009 ) OU ( MOR0311 E DFS0009 ) OU ( DFS0029 ) OU ( DFS0032 E DFS0034 ) OU ( DFS0006 ) OU ( DFS0054 ) OU ( DFS0053 ) ',\n",
       "       '( COP0035 E COP0036 E COP0037 E COP0038 ) OU ( COP0039 E COP0036 E COP0040 E COP0038 ) ',\n",
       "       '( INF0003 ) OU ( ( DMP0402 ) E ( DMP0403 ) E ( DMP0404 ) E ( INF0405 ) ) OU ( INF0012 E INF0013 E INF0014 E INF0015 E INF0016 E INF0017 E INF0018 E INF0019 ) ',\n",
       "       '( ( ECT1314 E ECT1315 ) OU ( ECT1304 E ECT1305 ) OU ( ECT1314 E ECT1305 ) OU ( ECT1315 E ECT1304 ) ) ',\n",
       "       '( CST1000 ) E ( CST1005 ) OU ( CST3063 E CST3067 ) OU ( CST3007 E CST3001 ) OU ( CST2061 ) OU ( CST2257 E CST2258 ) OU ( CST2257 ) E ( CST2270 E CST2271 ) ',\n",
       "       '( CST1000 E CST1005 ) OU ( CST2082 ) OU ( CST3067 ) OU ( CST2066 ) OU ( CST2190 ) OU ( ( CST2272 ) E ( CST2273 E CST2274 ) ) ',\n",
       "       '( MCL2009 OU MCL2009 OU MCL0905 ) OU ( MCL0049 E MCL0050 ) OU ( MCL0055 E MCL0056 ) OU ( MCL0062 E MCL0063 ) OU ( MCL0034 ) OU ( MCL9904 E MED9904 ) ',\n",
       "       '( MCL2010 OU MCL2010 OU MCL0906 ) OU ( MCL0051 E MCL0052 ) OU ( MCL0057 E MCL0058 ) OU ( MCL0064 E MCL0065 ) OU ( MCL0035 ) ',\n",
       "       '( MCL2020 ) OU ( MCL0053 E MCL0054 ) OU ( MCL0060 E MCL0061 ) OU ( MCL0036 ) OU ( MCL9902 E MED9902 ) ',\n",
       "       '( MCI0122 ) E ( DMI0007 ) OU ( MCI2004 ) OU ( MCI0078 E MCI0080 ) OU ( MCI0083 E MCI0084 ) OU ( MCI0068 ) ',\n",
       "       '( ( PED1000 E PED2000 ) OU ( PED1111 E PED2222 ) ) E ( PED2005 ) OU ( PED0018 E PED0019 E PED0020 ) ',\n",
       "       '( FST0120 OU FST0312 OU ( FST0128 E FST0129 E FST0130 ) OU ( FST0174 E FST0175 E FST0176 ) ) ',\n",
       "       '( FST0332 OU FST0028 OU ( FST0143 E FST0146 ) OU ( FST0144 E FST0145 ) OU ( FST0191 E FST0192 ) ) ',\n",
       "       '( ( FST0333 ) OU ( FST0148 E FST0149 E FST0150 E FST0151 ) OU ( FST0148 E FST0150 E FST0152 ) ) ',\n",
       "       '( ( FST0031 ) OU ( FST0332 E FST0333 E FST0334 ) OU ( FST0161 E FST0162 E FST0163 ) OU ( FST0160 E FST0162 E FST0164 ) OU ( FST0160 E FST0190 ) OU ( FST0161 E FST0190 ) OU ( FST0190 ) ) ',\n",
       "       '( ( MUS5110 ) OU ( MUS5111 ) OU ( MUS5112 ) OU ( MUS5113 ) OU ( MUS5114 ) OU ( MUS5115 ) OU ( MUS5116 ) OU ( MUS5117 ) OU ( MUS5118 ) OU ( MUS5119 ) OU ( MUS5120 ) OU ( MUS5121 ) OU ( MUS5122 ) OU ( MUS5123 ) OU ( MUS5124 ) OU ( MUS5125 ) OU ( MUS5126 ) OU ( MUS5127 ) OU ( MUS5128 ) OU ( MUS5129 ) OU ( MUS5130 ) OU ( MUS5131 ) OU ( MUS5491 ) OU ( MUS5300 ) OU ( MUS5317 ) OU ( MUS5318 ) OU ( MUS0186 ) OU ( MUS0256 ) ) ',\n",
       "       '( ( MUS5134 ) OU ( MUS5135 ) OU ( MUS5319 ) OU ( MUS5138 ) OU ( MUS0187 ) OU ( MUS5139 ) OU ( MUS5140 ) OU ( MUS5142 ) OU ( MUS0455 ) OU ( MUS5145 ) OU ( MUS5147 ) OU ( MUS5149 ) OU ( MUS5137 ) OU ( MUS5150 ) OU ( MUS5152 ) OU ( MUS5153 ) OU ( MUS0197 ) OU ( MUS0241 ) OU ( MUS5136 ) OU ( MUS0257 ) OU ( MUS5141 ) OU ( MUS5143 ) OU ( MUS5146 ) OU ( MUS5144 ) OU ( MUS5148 ) OU ( MUS5151 ) OU ( MUS5133 ) OU ( MUS5492 ) OU ( MUS5497 ) ) ',\n",
       "       '( MUS5302 ) OU ( MUS5303 ) OU ( MUS5320 ) OU ( MUS5305 ) OU ( MUS0188 ) OU ( MUS5306 ) OU ( MUS5307 ) OU ( MUS0168 ) OU ( MUS0456 ) OU ( MUS5310 ) OU ( MUS5311 ) OU ( MUS0196 ) OU ( MUS5304 ) OU ( MUS5313 ) OU ( MUS5315 ) OU ( MUS5316 ) OU ( MUS0198 ) OU ( MUS0242 ) OU ( MUS0248 ) OU ( MUS0258 ) OU ( MUS0266 ) OU ( MUS0171 ) OU ( MUS5308 ) OU ( MUS5309 ) OU ( MUS5312 ) OU ( MUS5314 ) OU ( MUS5301 ) OU ( MUS5493 ) ',\n",
       "       '( MUS0267 ) OU ( MUS0274 ) OU ( MUS0279 ) OU ( MUS0289 ) OU ( MUS0191 ) OU ( MUS0284 ) OU ( MUS0294 ) OU ( MUS0308 ) OU ( MUS0181 ) OU ( MUS0320 ) OU ( MUS0330 ) OU ( MUS0337 ) OU ( MUS0345 ) OU ( MUS0350 ) OU ( MUS0355 ) OU ( MUS0360 ) OU ( MUS0365 ) OU ( MUS0243 ) OU ( MUS0251 ) OU ( MUS0261 ) OU ( MUS0370 ) OU ( MUS0172 ) OU ( MUS0380 ) OU ( MUS0375 ) OU ( MUS0385 ) OU ( MUS0390 ) OU ( MUS0395 ) OU ( MUS5494 ) ',\n",
       "       '( ( MUS0049 ) OU ( MUS0060 ) OU ( MUS0262 ) OU ( MUS0396 ) OU ( MUS0244 ) OU ( MUS0268 ) OU ( MUS0275 ) OU ( MUS0252 ) OU ( MUS0346 ) OU ( MUS0280 ) OU ( MUS0290 ) OU ( MUS0192 ) OU ( MUS0285 ) OU ( MUS0295 ) OU ( MUS0371 ) OU ( MUS0309 ) OU ( MUS0173 ) OU ( MUS0182 ) OU ( MUS0376 ) OU ( MUS0327 ) OU ( MUS0381 ) OU ( MUS0333 ) OU ( MUS0386 ) OU ( MUS0338 ) OU ( MUS0351 ) OU ( MUS0356 ) OU ( MUS0391 ) OU ( MUS0361 ) OU ( MUS0366 ) OU ( MUS5495 ) ) ',\n",
       "       '( ( MUS0050 ) OU ( MUS0061 ) OU ( MUS0263 ) OU ( MUS0397 ) OU ( MUS0245 ) OU ( MUS0310 ) OU ( MUS0276 ) OU ( MUS0253 ) OU ( MUS0347 ) OU ( MUS0281 ) OU ( MUS0291 ) OU ( MUS0193 ) OU ( MUS0286 ) OU ( MUS0296 ) OU ( MUS0372 ) OU ( MUS0317 ) OU ( MUS0174 ) OU ( MUS0183 ) OU ( MUS0377 ) OU ( MUS0328 ) OU ( MUS0382 ) OU ( MUS0334 ) OU ( MUS0387 ) OU ( MUS0339 ) OU ( MUS0352 ) OU ( MUS0357 ) OU ( MUS0392 ) OU ( MUS0362 ) OU ( MUS0367 ) OU ( MUS5496 ) ) ',\n",
       "       '( ( MUS0054 ) OU ( MUS0062 ) OU ( MUS0264 ) OU ( MUS0430 ) OU ( MUS0246 ) OU ( MUS0318 ) OU ( MUS0277 ) OU ( MUS0254 ) OU ( MUS0348 ) OU ( MUS0282 ) OU ( MUS0292 ) OU ( MUS0194 ) OU ( MUS0287 ) OU ( MUS0297 ) OU ( MUS0373 ) OU ( MUS0319 ) OU ( MUS0175 ) OU ( MUS0184 ) OU ( MUS0378 ) OU ( MUS0329 ) OU ( MUS0383 ) OU ( MUS0335 ) OU ( MUS0388 ) OU ( MUS0340 ) OU ( MUS0353 ) OU ( MUS0358 ) OU ( MUS0393 ) OU ( MUS0363 ) OU ( MUS0368 ) ) ',\n",
       "       '( ( MUS0055 ) OU ( MUS0063 ) OU ( MUS0265 ) OU ( MUS0454 ) OU ( MUS0247 ) OU ( MUS0336 ) OU ( MUS0278 ) OU ( MUS0255 ) OU ( MUS0349 ) OU ( MUS0283 ) OU ( MUS0293 ) OU ( MUS0195 ) OU ( MUS0288 ) OU ( MUS0354 ) OU ( MUS0374 ) OU ( MUS0359 ) OU ( MUS0176 ) OU ( MUS0185 ) OU ( MUS0379 ) OU ( MUS0369 ) OU ( MUS0384 ) OU ( MUS0389 ) OU ( MUS0394 ) OU ( MUS0457 ) OU ( MUS0458 ) OU ( MUS0459 ) OU ( MUS0460 ) OU ( MUS0461 ) OU ( MUS0462 ) ) ',\n",
       "       '( ( ENF0060 ) OU ( ENF0203 ) OU ( ENF5004 E ENF7001 ) OU ( ENF7007 ) ) OU ( ENF0052 ) OU ( ( ENF0108 ) E ( ENF0109 ) ) OU ( ( ENF0108 ) E ( ENF0121 ) E ( ENF0122 ) E ( ENF0123 ) ) ',\n",
       "       '( ( ENF0053 ) OU ( ENF7008 ) ) OU ( ( ENF0110 ) E ( ENF0111 ) ) OU ( ( ENF0124 ) E ( ENF0125 ) E ( ENF0126 ) E ( ENF0127 ) E ( ENF0128 ) ) ',\n",
       "       '( ENF0059 ) OU ( ENF7010 ) OU ( ENF0054 ) OU ( ( ENF0114 ) E ( ENF0115 ) ) OU ( ( ENF0114 ) E ( ENF0116 ) E ( ENF0117 ) E ( ENF0118 ) E ( ENF0119 ) E ( ENF0120 ) ) OU ( ( ENF0116 ) E ( ENF0117 ) E ( ENF0118 ) E ( ENF0119 ) E ( ENF0120 ) E ( ENF0129 ) E ( ENF0137 ) E ( ENF0138 ) OU ( ENF0141 E ENF0142 ) ) ',\n",
       "       '( ( ENF0058 ) OU ( ENF7009 ) OU ( ENF0045 ) ) OU ( ( ENF0112 ) E ( ENF0113 ) ) OU ( ( ENF0130 ) E ( ENF0133 ) OU ( ENF0139 E ENF0140 ) ) ',\n",
       "       '( ENF7010 ) OU ( ENF0059 ) OU ( ( ENF0114 ) E ( ENF0115 ) ) OU ( ( ENF0114 ) E ( ENF0116 ) E ( ENF0117 ) E ( ENF0118 ) E ( ENF0119 ) E ( ENF0120 ) ) OU ( ( ENF0119 ) E ( ENF0120 ) E ( ENF0137 ) ) OU ( ( ENF0143 ) E ( ENF0144 ) E ( ENF0145 ) ) ',\n",
       "       '( ENF0059 ) OU ( ENF7010 ) OU ( ( ENF0114 ) E ( ENF0115 ) ) OU ( ( ENF0114 ) E ( ENF0116 ) E ( ENF0117 ) E ( ENF0118 ) E ( ENF0119 ) E ( ENF0120 ) ) OU ( ( ENF0116 ) E ( ENF0117 ) E ( ENF0118 ) E ( ENF0129 ) E ( ENF0138 ) ) ',\n",
       "       '( ENF0058 ) OU ( ENF0302 ) OU ( ENF0304 ) OU ( ENF5013 ) OU ( ENF5007 ) OU ( ENF7002 ) OU ( ENF7004 ) OU ( ENF7009 ) OU ( ENF0045 ) OU ( ( ENF0112 ) E ( ENF0113 ) ) OU ( ( ENF0131 ) E ( ENF0134 ) E ( ENF0135 ) ) OU ( ENF0146 ) ',\n",
       "       '( SSO0002 E SSO0038 E SSO0003 E SSO0039 E SSO0025 E SSO0026 ) OU ( SSO0056 ) OU ( SSO0096 ) ',\n",
       "       '( FST0305 OU FST0111 OU FST0035 OU FST0014 OU ( FST0141 E FST0142 ) OU ( FST0141 E FST0178 ) ) ',\n",
       "       '( FST0308 OU FST0108 OU FST0015 OU ( FST0093 E FST1002 ) OU ( FST0093 E FST0177 ) OU FST0193 ) ',\n",
       "       '( ( FST0105 E FST0106 E FST0107 ) OU CST2081 OU FST0307 OU ( FST0095 E FST1001 ) OU ( FST0095 E FST0181 ) ) ',\n",
       "       '( ( FST0117 OU FST0048 OU FST0310 ) OU ( FST1003 E FST1005 ) OU ( FST1003 E FST0182 E FST0183 ) ) ',\n",
       "       '( FST0117 OU FST0311 OU FST0049 OU ( FST0166 E FST0167 ) OU ( FST0166 E FST0185 E FST0186 ) ) ',\n",
       "       '( FST0313 OU FST0119 OU FST0017 OU FST0044 OU ( FST0138 E FST0139 ) OU ( FST0138 E FST0179 E FST0180 ) ) ',\n",
       "       '( FIS0312 ) OU ( FIS0003 ) OU ( FIS0603 ) OU ( FIS0104 ) OU ( FIS0317 ) OU ( FIS0703 ) OU ( FIS0317 ) OU ( FIS0003 ) OU ( ECT1305 ) ',\n",
       "       '( ( CSH0520 ) OU ( CSH0153 ) OU ( CSH0400 ) OU ( DLC0400 ) OU ( DLC3003 ) OU ( FEL0602 ) OU ( FEL2803 ) OU ( FEL0802 ) OU ( FEL0207 ) OU ( FEL2421 ) ) ',\n",
       "       '( ( FON0024 ) OU ( FON0034 ) OU ( CCF0002 ) OU ( MCI0038 ) E ( FON0031 ) OU ( FON0037 ) OU ( CCF0003 ) OU ( MCI0039 ) ) OU ( FON0065 ) ',\n",
       "       '( ( FON0024 ) OU ( CCF0002 ) OU ( FON0034 ) OU ( MCI0038 ) E ( FON0031 ) OU ( CCF0003 ) OU ( FON0037 ) OU ( MCI0039 ) ) OU ( FON0078 ) ',\n",
       "       '( ( FON0024 ) OU ( FON0034 ) OU ( CCF0002 ) OU ( MCI0038 ) E ( FON0031 ) OU ( FON0037 ) OU ( CCF0003 ) OU ( MCI0039 ) ) OU ( FON0081 ) ',\n",
       "       '( ( FON0024 ) OU ( FON0034 ) OU ( CCF0002 ) OU ( MCI0038 ) E ( FON0031 ) OU ( FON0037 ) OU ( CCF0003 ) OU ( MCI0039 ) ) OU ( FON0082 ) ',\n",
       "       '( ( FON0024 ) OU ( FON0034 ) OU ( CCF0002 ) OU ( MCI0038 ) E ( FON0031 ) OU ( FON0037 ) OU ( CCF0003 ) OU ( MCI0039 ) ) OU ( FON0088 ) ',\n",
       "       '( ( FON0031 ) OU ( FON0037 ) OU ( CCF0003 ) OU ( MCI0039 ) E ( FON0024 ) OU ( FON0034 ) OU ( CCF0002 ) OU ( MCI0038 ) ) OU ( FON0089 ) ',\n",
       "       '( CST3061 ) OU ( CST1001 ) OU ( CST3190 E CST3191 ) OU ( CST3190 E CST3215 E CST3216 ) OU ( CST1060 ) ',\n",
       "       '( CST1005 ) OU ( CST1129 ) OU ( CST3067 ) OU ( CST3130 ) OU ( CST2185 ) OU ( CST2190 ) OU ( CST1140 ) OU ( CST1197 E CST1198 ) OU ( CST1197 E CST1217 E CST1216 ) ',\n",
       "       '( ECT1102 ) OU ( ECT1113 ) OU ( MAT0023 ) OU ( MAT0057 E MAT0058 ) OU ( MAT0228 ) OU ( MAT0311 ) OU ( MAT0340 ) OU ( MAT0345 ) ',\n",
       "       '( MAT0313 ) OU ( MAT0230 ) OU ( MAT0025 ) OU ( MAT0343 ) OU ( MAT0319 ) OU ( ECT1211 ) OU ( ECT1201 ) OU ( ECT2102 ) OU ( MAT0056 ) ',\n",
       "       '( ( PRO0321 ) E ( PRO0322 ) E ( PRO0323 ) ) OU ( ( PRO0321 ) E ( PRO0322 ) E ( PRO0324 ) ) OU ( ( PRO0322 ) E ( PRO0323 ) E ( PRO0324 ) ) OU ( ( PRO0321 ) E ( PRO0323 ) E ( PRO0324 ) ) '],\n",
       "      dtype=object)"
      ]
     },
     "execution_count": 125,
     "metadata": {},
     "output_type": "execute_result"
    }
   ],
   "source": [
    "componentes_curriculares[componentes_curriculares['equivalencia_parse'].apply(len)>100]['equivalencia'].values"
   ]
  }
 ],
 "metadata": {
  "kernelspec": {
   "display_name": "python3",
   "language": "python",
   "name": "python3"
  },
  "language_info": {
   "codemirror_mode": {
    "name": "ipython",
    "version": 3
   },
   "file_extension": ".py",
   "mimetype": "text/x-python",
   "name": "python",
   "nbconvert_exporter": "python",
   "pygments_lexer": "ipython3",
   "version": "3.11.7"
  }
 },
 "nbformat": 4,
 "nbformat_minor": 2
}
