{
 "cells": [
  {
   "cell_type": "markdown",
   "metadata": {},
   "source": [
    "#### Imports"
   ]
  },
  {
   "cell_type": "code",
   "execution_count": null,
   "metadata": {},
   "outputs": [
    {
     "name": "stdout",
     "output_type": "stream",
     "text": [
      "Requirement already satisfied: python-dotenv in /home/jose/miniconda3/lib/python3.11/site-packages (1.0.1)\n"
     ]
    }
   ],
   "source": [
    "!pip install python-dotenv"
   ]
  },
  {
   "cell_type": "code",
   "execution_count": null,
   "metadata": {},
   "outputs": [],
   "source": [
    "import os\n",
    "import requests\n",
    "\n",
    "from dotenv import load_dotenv\n",
    "from urllib.parse import urljoin\n",
    "from urllib.parse import urlparse\n",
    "from urllib.request import urlretrieve"
   ]
  },
  {
   "cell_type": "markdown",
   "metadata": {},
   "source": [
    "#### Data directory"
   ]
  },
  {
   "cell_type": "code",
   "execution_count": null,
   "metadata": {},
   "outputs": [],
   "source": [
    "data_directory_path = \"../data\""
   ]
  },
  {
   "cell_type": "markdown",
   "metadata": {},
   "source": [
    "#### Environmental variables loading"
   ]
  },
  {
   "cell_type": "code",
   "execution_count": null,
   "metadata": {},
   "outputs": [],
   "source": [
    "env_filepath = \"../../env/gov/dados.env\""
   ]
  },
  {
   "cell_type": "code",
   "execution_count": null,
   "metadata": {},
   "outputs": [
    {
     "data": {
      "text/plain": [
       "True"
      ]
     },
     "execution_count": null,
     "metadata": {},
     "output_type": "execute_result"
    }
   ],
   "source": [
    "load_dotenv(env_filepath)"
   ]
  },
  {
   "cell_type": "markdown",
   "metadata": {},
   "source": [
    "#### Request headers and base URL"
   ]
  },
  {
   "cell_type": "code",
   "execution_count": null,
   "metadata": {},
   "outputs": [],
   "source": [
    "request_headers = {\n",
    "    'accept': 'application/json',\n",
    "    'chave-api-dados-abertos': os.environ[\"CHAVE_API_DADOS_GOV_BR\"],\n",
    "}\n",
    "\n",
    "request_base_url = urlparse('https://dados.gov.br/dados/api/publico/')"
   ]
  },
  {
   "cell_type": "code",
   "execution_count": null,
   "metadata": {},
   "outputs": [],
   "source": [
    "ufrn_id = 'c0dd9ea9-d067-4d8d-97d9-8016f29873aa'"
   ]
  },
  {
   "cell_type": "code",
   "execution_count": null,
   "metadata": {},
   "outputs": [],
   "source": [
    "requested = requests.get(\n",
    "    urljoin(request_base_url.geturl(),'organizacao/' + ufrn_id), \n",
    "    headers=request_headers, \n",
    ")\n",
    "\n",
    "ufrn_information = requested.json()"
   ]
  },
  {
   "cell_type": "code",
   "execution_count": null,
   "metadata": {},
   "outputs": [
    {
     "data": {
      "text/plain": [
       "{'id': 'c0dd9ea9-d067-4d8d-97d9-8016f29873aa',\n",
       " 'name': None,\n",
       " 'displayName': 'Universidade Federal do Rio Grande do Norte - UFRN',\n",
       " 'urlFoto': 'https://dados.gov.br/api/publico/s3/2c29c868-2afb-4da9-8521-d7079ba9063a.png',\n",
       " 'quantidadeSeguidores': 4,\n",
       " 'quantidadeConjuntoDados': 88,\n",
       " 'descricao': 'A Universidade Federal do Rio Grande do Norte origina-se da Universidade do Rio Grande do Norte, criada em 25 de junho de 1958, através de lei estadual, e federalizada em 18 de dezembro de 1960. A Universidade do Rio Grande do Norte, instalada em sessão solene realizada no Teatro Alberto Maranhão, em 21 de março de 1959, foi formada a partir de faculdades e escolas de nível superior já existentes em Natal, como a Faculdade de Farmácia e Odontologia; a Faculdade de Direito; a Faculdade de Medicina; a Escola de Engenharia, entre outras.',\n",
       " 'nome': 'Universidade Federal do Rio Grande do Norte - UFRN',\n",
       " 'ativo': 'active',\n",
       " 'atributos': {'siorg': '417'}}"
      ]
     },
     "execution_count": null,
     "metadata": {},
     "output_type": "execute_result"
    }
   ],
   "source": [
    "ufrn_information"
   ]
  },
  {
   "cell_type": "code",
   "execution_count": null,
   "metadata": {},
   "outputs": [
    {
     "name": "stdout",
     "output_type": "stream",
     "text": [
      "1, 2, 3, 4, 5, 6, 7, "
     ]
    }
   ],
   "source": [
    "conjunto_dados = []\n",
    "pagina = 0\n",
    "while True:\n",
    "    pagina += 1\n",
    "    print(pagina, end=', ')\n",
    "    request_params = {\n",
    "        'idOrganizacao' : ufrn_id,\n",
    "        'pagina' : pagina,\n",
    "    }\n",
    "    \n",
    "    request_url = \"https://dados.gov.br/dados/api/publico/conjuntos-dados\"\n",
    "    requested = requests.get(request_url, headers=request_headers, params=request_params)\n",
    "\n",
    "    if requested.json():\n",
    "        conjunto_dados.extend(requested.json())\n",
    "    else:\n",
    "        break\n",
    "ufrn_information['conjunto_dados'] = conjunto_dados"
   ]
  },
  {
   "cell_type": "code",
   "execution_count": null,
   "metadata": {},
   "outputs": [],
   "source": [
    "ufrn_raw_directory = '../data/raw/universidade_federal_do_rio_grande_do_norte_-_ufrn/'"
   ]
  },
  {
   "cell_type": "code",
   "execution_count": null,
   "metadata": {},
   "outputs": [
    {
     "name": "stdout",
     "output_type": "stream",
     "text": [
      "\t0 (I Hackathon UFRN)\n",
      "\t1 (Relação Empenhos COVID inscritos em RPNP)\n",
      "\t2 (Acervo aquisição)\n",
      "\t3 (Servidores Aposentados)\n",
      "\t4 (Trabalhos de Conclusão de Curso)\n",
      "\t5 (Requisição de Serviço para Licitação)\n",
      "\t6 (Requisição de Parecer Técnico/Avaliação)\n",
      "\t7 (Requisição de Material para Importação)\n",
      "\t8 (Requisição de Serviço para Pessoa Jurídica)\n",
      "\t9 (Requisição de Materiais Informacionais do Contrato)\n",
      "\t10 (Requisição de Reserva de Veículo)\n",
      "\t11 (Requisição de Atividade de Campo)\n",
      "\t12 (Requisição de Meio Ambiente)\n",
      "\t13 (Requisição de Devolução de Material)\n",
      "\t14 (Solicitação de Material de Registro de Preço)\n",
      "\t15 (Requisições de Materiais)\n",
      "\t16 (Componentes Curriculares)\n",
      "\t17 (Requisição de Materiais Informacionais)\n",
      "\t18 (Orientações de Docentes)\n",
      "\t19 (Estruturas Curriculares)\n",
      "\t20 (Planos Individuais Docentes)\n",
      "\t21 (Funções Gratificadas)\n",
      "\t22 (AVALIAÇÕES DE DESEMPENHO DE DOCENTES)\n",
      "\t23 (Requisição de Material para Participar de um Novo Registro de Preço)\n",
      "\t24 (Dados Complementares de Discentes)\n",
      "\t25 (Unidades Acadêmicas)\n",
      "\t26 (Atas Vigentes)\n",
      "\t27 (Cursos da UFRN)\n",
      "\t28 (Cursos de Pós Graduação)\n",
      "\t29 (Projetos de Ensino)\n",
      "\t30 (Processos Administrativos)\n",
      "\t31 (Telefones)\n",
      "\t32 (Concursos)\n",
      "\t33 (Unidades)\n",
      "\t34 (EGRESSOS)\n",
      "\t35 (Diplomas)\n",
      "\t36 (Requisição de Obra)\n",
      "\t37 (Estoques de Almoxarifado)\n",
      "\t38 (Solicitações de Afastamentos)\n",
      "\t39 (Empenhos)\n",
      "\t40 (Produtos de Extensão)\n",
      "\t41 (Contratos)\n",
      "\t42 (Currículo Componente)\n",
      "\t43 (Aposentadoria)\n",
      "\t44 (Obras)\n",
      "\t45 (Avaliação de Docência)\n",
      "\t46 (Progressões)\n",
      "\t47 (Resoluções)\n",
      "\t48 (Servidores)\n",
      "\t49 (Registro de Ponto Eletrônico de Servidores)\n",
      "\t50 (Docentes Externos)\n",
      "\t51 (Dados Sócio-Econômicos de Discentes)\n",
      "\t52 (Requisição de Material/Serviço Contratado)\n",
      "\t53 (Atividades de Extensão)\n",
      "\t54 (Acervo de Arte, Peças Museológicas e Documentos Históricos)\n",
      "\t55 (Bens Móveis)\n",
      "\t56 (Indicadores de Pesquisa)\n",
      "\t57 (Requisição de Auxílio Financeiro ao Estudante)\n",
      "\t58 (Requisição de Serviço)\n",
      "\t59 (Convênios)\n",
      "\t60 (Homologação dos registros de ponto eletrônico dos servidores)\n",
      "\t61 (Consumo Energético por campus)\n",
      "\t62 (Programas de Pós-Graduação)\n",
      "\t63 (Bens Imóveis)\n",
      "\t64 (Cursos de Graduação)\n",
      "\t65 (Editais de Concursos)\n",
      "\t66 (Ausências de Servidores)\n",
      "\t67 (Bolsas de Apoio)\n",
      "\t68 (Bolsistas de Iniciação Científica)\n",
      "\t69 (Pesquisadores)\n",
      "\t70 (Grupos de Pesquisa)\n",
      "\t71 (Projetos de Pesquisa)\n",
      "\t72 (Acervo da Biblioteca)\n",
      "\t73 (Processos Seletivos)\n",
      "\t74 (Docentes)\n",
      "\t75 (Matrículas Em Componentes)\n",
      "\t76 (Empréstimos dos Acervos das Bibliotecas)\n",
      "\t77 (Quadro de Referência dos Servidores Técnico-Administrativos)\n",
      "\t78 (Requisição de Diárias)\n",
      "\t79 (Discentes)\n",
      "\t80 (Boletim de Serviços)\n",
      "\t81 (Requisição de Hospedagem)\n",
      "\t82 (Requisição de Passagem)\n",
      "\t83 (Requisição de Manutenção)\n",
      "\t84 (Gastos)\n",
      "\t85 (Licitações)\n",
      "\t86 (Dados complementares de boletim)\n",
      "\t87 (Turmas)\n"
     ]
    }
   ],
   "source": [
    "for d, dado in enumerate(ufrn_information['conjunto_dados']):\n",
    "    print('\\t'+str(d), end=' (')\n",
    "    request_url = \"https://dados.gov.br/dados/api/publico/conjuntos-dados/\" + dado['id']\n",
    "    response = requests.get(request_url, headers=request_headers, params=request_params)\n",
    "    response_json = response.json()\n",
    "    if response_json:\n",
    "        print(dado['title'], end=')\\n')\n",
    "        dado.update(response_json)"
   ]
  },
  {
   "cell_type": "code",
   "execution_count": null,
   "metadata": {},
   "outputs": [],
   "source": [
    "should_break = False\n",
    "for dataset in ufrn_information['conjunto_dados']:\n",
    "    for recurso in dataset['recursos']:\n",
    "        if not recurso['formato']: continue\n",
    "        resource_filename = recurso['link'].split('/')[-1]\n",
    "        resource_filepath = os.path.join(ufrn_raw_directory,resource_filename)\n",
    "        if os.path.exists(resource_filepath): continue\n",
    "        print(resource_filepath)\n",
    "        urlretrieve(recurso['link'],resource_filepath)"
   ]
  }
 ],
 "metadata": {
  "kernelspec": {
   "display_name": "python3",
   "language": "python",
   "name": "python3"
  }
 },
 "nbformat": 4,
 "nbformat_minor": 2
}
